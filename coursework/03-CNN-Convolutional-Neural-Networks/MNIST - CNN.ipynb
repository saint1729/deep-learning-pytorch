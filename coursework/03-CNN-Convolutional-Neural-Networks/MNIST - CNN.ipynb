{
 "cells": [
  {
   "cell_type": "code",
   "execution_count": 36,
   "metadata": {},
   "outputs": [],
   "source": [
    "import torch\n",
    "import torch.nn as nn\n",
    "import torch.nn.functional as F\n",
    "from torch.utils.data import DataLoader\n",
    "from torchvision import datasets, transforms\n",
    "from torchvision.utils import make_grid\n",
    "\n",
    "import numpy as np\n",
    "import pandas as pd\n",
    "from sklearn.metrics import confusion_matrix\n",
    "import matplotlib.pyplot as plt\n",
    "%matplotlib inline\n",
    "\n",
    "import time"
   ]
  },
  {
   "cell_type": "code",
   "execution_count": 2,
   "metadata": {},
   "outputs": [],
   "source": [
    "transform = transforms.ToTensor()"
   ]
  },
  {
   "cell_type": "code",
   "execution_count": 3,
   "metadata": {},
   "outputs": [],
   "source": [
    "train_data = datasets.MNIST(root='../Data', train=True, download=True, transform=transform)"
   ]
  },
  {
   "cell_type": "code",
   "execution_count": 4,
   "metadata": {},
   "outputs": [],
   "source": [
    "test_data = datasets.MNIST(root='../Data', train=False, download=True, transform=transform)"
   ]
  },
  {
   "cell_type": "code",
   "execution_count": 5,
   "metadata": {},
   "outputs": [
    {
     "data": {
      "text/plain": [
       "Dataset MNIST\n",
       "    Number of datapoints: 60000\n",
       "    Root location: ../Data\n",
       "    Split: Train\n",
       "    StandardTransform\n",
       "Transform: ToTensor()"
      ]
     },
     "execution_count": 5,
     "metadata": {},
     "output_type": "execute_result"
    }
   ],
   "source": [
    "train_data"
   ]
  },
  {
   "cell_type": "code",
   "execution_count": 6,
   "metadata": {},
   "outputs": [
    {
     "data": {
      "text/plain": [
       "Dataset MNIST\n",
       "    Number of datapoints: 10000\n",
       "    Root location: ../Data\n",
       "    Split: Test\n",
       "    StandardTransform\n",
       "Transform: ToTensor()"
      ]
     },
     "execution_count": 6,
     "metadata": {},
     "output_type": "execute_result"
    }
   ],
   "source": [
    "test_data"
   ]
  },
  {
   "cell_type": "code",
   "execution_count": 7,
   "metadata": {},
   "outputs": [],
   "source": [
    "train_loader = DataLoader(train_data, batch_size=10, shuffle=True)\n",
    "test_loader = DataLoader(test_data, batch_size=10, shuffle=False)"
   ]
  },
  {
   "cell_type": "code",
   "execution_count": 48,
   "metadata": {},
   "outputs": [],
   "source": [
    "conv1 = nn.Conv2d(1, 6, 3, 1)\n",
    "conv2 = nn.Conv2d(6, 16, 3, 1)"
   ]
  },
  {
   "cell_type": "code",
   "execution_count": 9,
   "metadata": {},
   "outputs": [],
   "source": [
    "for i, (X_train, y_train) in enumerate(train_data):\n",
    "    break"
   ]
  },
  {
   "cell_type": "code",
   "execution_count": 16,
   "metadata": {},
   "outputs": [],
   "source": [
    "x = X_train.view(1, 1, 28, 28)"
   ]
  },
  {
   "cell_type": "code",
   "execution_count": 17,
   "metadata": {},
   "outputs": [],
   "source": [
    "x = F.relu(conv1(x))"
   ]
  },
  {
   "cell_type": "code",
   "execution_count": 18,
   "metadata": {},
   "outputs": [
    {
     "data": {
      "text/plain": [
       "torch.Size([1, 6, 26, 26])"
      ]
     },
     "execution_count": 18,
     "metadata": {},
     "output_type": "execute_result"
    }
   ],
   "source": [
    "x.shape"
   ]
  },
  {
   "cell_type": "code",
   "execution_count": 19,
   "metadata": {},
   "outputs": [],
   "source": [
    "x = F.max_pool2d(x, 2, 2)"
   ]
  },
  {
   "cell_type": "code",
   "execution_count": 20,
   "metadata": {},
   "outputs": [
    {
     "data": {
      "text/plain": [
       "torch.Size([1, 6, 13, 13])"
      ]
     },
     "execution_count": 20,
     "metadata": {},
     "output_type": "execute_result"
    }
   ],
   "source": [
    "x.shape"
   ]
  },
  {
   "cell_type": "code",
   "execution_count": 21,
   "metadata": {},
   "outputs": [],
   "source": [
    "x = F.relu(conv2(x))"
   ]
  },
  {
   "cell_type": "code",
   "execution_count": 22,
   "metadata": {},
   "outputs": [
    {
     "data": {
      "text/plain": [
       "torch.Size([1, 16, 11, 11])"
      ]
     },
     "execution_count": 22,
     "metadata": {},
     "output_type": "execute_result"
    }
   ],
   "source": [
    "x.shape"
   ]
  },
  {
   "cell_type": "code",
   "execution_count": 23,
   "metadata": {},
   "outputs": [],
   "source": [
    "x = F.max_pool2d(x, 2, 2)"
   ]
  },
  {
   "cell_type": "code",
   "execution_count": 24,
   "metadata": {},
   "outputs": [
    {
     "data": {
      "text/plain": [
       "torch.Size([1, 16, 5, 5])"
      ]
     },
     "execution_count": 24,
     "metadata": {},
     "output_type": "execute_result"
    }
   ],
   "source": [
    "x.shape"
   ]
  },
  {
   "cell_type": "code",
   "execution_count": 27,
   "metadata": {},
   "outputs": [
    {
     "data": {
      "text/plain": [
       "torch.Size([1, 400])"
      ]
     },
     "execution_count": 27,
     "metadata": {},
     "output_type": "execute_result"
    }
   ],
   "source": [
    "x.view(-1, 16 * 5 * 5).shape"
   ]
  },
  {
   "cell_type": "code",
   "execution_count": 32,
   "metadata": {},
   "outputs": [],
   "source": [
    "class ConvolutionalNetwork(nn.Module):\n",
    "    def __init__(self):\n",
    "        super().__init__()\n",
    "        self.conv1 = nn.Conv2d(1, 6, 3, 1)\n",
    "        self.conv2 = nn.Conv2d(6, 16, 3, 1)\n",
    "        self.fc1 = nn.Linear(5 * 5 * 16, 120)\n",
    "        self.fc2 = nn.Linear(120, 84)\n",
    "        self.fc3 = nn.Linear(84, 10)\n",
    "    \n",
    "    def forward(self, X):\n",
    "        X = F.relu(self.conv1(X))\n",
    "        X = F.max_pool2d(X, 2, 2)\n",
    "        X = F.relu(self.conv2(X))\n",
    "        X = F.max_pool2d(X, 2, 2)\n",
    "        X = X.view(-1, 16 * 5 * 5)\n",
    "        X = F.relu(self.fc1(X))\n",
    "        X = F.relu(self.fc2(X))\n",
    "        X = F.log_softmax(self.fc3(X), dim=1)\n",
    "        return X"
   ]
  },
  {
   "cell_type": "code",
   "execution_count": 33,
   "metadata": {},
   "outputs": [
    {
     "data": {
      "text/plain": [
       "ConvolutionalNetwork(\n",
       "  (conv1): Conv2d(1, 6, kernel_size=(3, 3), stride=(1, 1))\n",
       "  (conv2): Conv2d(6, 16, kernel_size=(3, 3), stride=(1, 1))\n",
       "  (fc1): Linear(in_features=400, out_features=120, bias=True)\n",
       "  (fc2): Linear(in_features=120, out_features=84, bias=True)\n",
       "  (fc3): Linear(in_features=84, out_features=10, bias=True)\n",
       ")"
      ]
     },
     "execution_count": 33,
     "metadata": {},
     "output_type": "execute_result"
    }
   ],
   "source": [
    "torch.manual_seed(42)\n",
    "model = ConvolutionalNetwork()\n",
    "model"
   ]
  },
  {
   "cell_type": "code",
   "execution_count": 34,
   "metadata": {},
   "outputs": [
    {
     "name": "stdout",
     "output_type": "stream",
     "text": [
      "54\n",
      "6\n",
      "864\n",
      "16\n",
      "48000\n",
      "120\n",
      "10080\n",
      "84\n",
      "840\n",
      "10\n"
     ]
    }
   ],
   "source": [
    "for param in model.parameters():\n",
    "    print(param.numel())"
   ]
  },
  {
   "cell_type": "code",
   "execution_count": 35,
   "metadata": {},
   "outputs": [],
   "source": [
    "criterion = nn.CrossEntropyLoss()\n",
    "optimizer = torch.optim.Adam(model.parameters(), lr=0.001)"
   ]
  },
  {
   "cell_type": "code",
   "execution_count": 39,
   "metadata": {},
   "outputs": [
    {
     "name": "stdout",
     "output_type": "stream",
     "text": [
      "Epoch: 0 BATCH: 600 LOSS: 0.4816969037055969\n",
      "Epoch: 0 BATCH: 1200 LOSS: 0.10990709066390991\n",
      "Epoch: 0 BATCH: 1800 LOSS: 0.018104346469044685\n",
      "Epoch: 0 BATCH: 2400 LOSS: 0.10995674133300781\n",
      "Epoch: 0 BATCH: 3000 LOSS: 0.0026193559169769287\n",
      "Epoch: 0 BATCH: 3600 LOSS: 0.05913165211677551\n",
      "Epoch: 0 BATCH: 4200 LOSS: 0.11463085561990738\n",
      "Epoch: 0 BATCH: 4800 LOSS: 0.0028016851283609867\n",
      "Epoch: 0 BATCH: 5400 LOSS: 0.005568644963204861\n",
      "Epoch: 0 BATCH: 6000 LOSS: 0.0599198155105114\n",
      "1\n",
      "tensor([[-1.2366e+01, -1.0606e+01, -8.0966e+00, -7.9539e+00, -1.1628e+01,\n",
      "         -1.3640e+01, -2.1273e+01, -7.1607e-04, -1.2043e+01, -1.1117e+01],\n",
      "        [-1.3008e+01, -1.0265e+01, -4.8040e-05, -1.1553e+01, -1.5649e+01,\n",
      "         -1.9043e+01, -1.8359e+01, -1.4002e+01, -1.4960e+01, -2.0766e+01],\n",
      "        [-1.2239e+01, -6.1326e-04, -1.0169e+01, -1.1805e+01, -8.2123e+00,\n",
      "         -1.1868e+01, -9.4521e+00, -9.3454e+00, -9.1483e+00, -1.1348e+01],\n",
      "        [-2.9480e-03, -1.2429e+01, -7.2616e+00, -8.2204e+00, -1.0337e+01,\n",
      "         -7.9653e+00, -8.3047e+00, -9.6860e+00, -8.4244e+00, -6.8496e+00],\n",
      "        [-1.0381e+01, -9.6773e+00, -9.5559e+00, -9.9186e+00, -1.7862e-02,\n",
      "         -8.6334e+00, -7.7808e+00, -1.1773e+01, -7.8653e+00, -4.1043e+00],\n",
      "        [-1.6763e+01, -4.6133e-05, -1.3613e+01, -1.5910e+01, -1.0585e+01,\n",
      "         -1.6703e+01, -1.4645e+01, -1.1517e+01, -1.1675e+01, -1.4628e+01],\n",
      "        [-1.7681e+01, -7.4023e+00, -1.2501e+01, -1.3932e+01, -3.5442e-02,\n",
      "         -8.9475e+00, -1.1434e+01, -1.0010e+01, -3.3923e+00, -7.8493e+00],\n",
      "        [-1.1723e+01, -6.5215e+00, -8.9891e+00, -3.8989e+00, -4.4738e+00,\n",
      "         -6.3457e+00, -1.2474e+01, -9.6107e+00, -5.6009e+00, -3.9566e-02],\n",
      "        [-1.0328e+01, -1.0709e+01, -1.4352e+01, -8.9741e+00, -1.5124e+01,\n",
      "         -1.6314e-02, -4.1450e+00, -1.6266e+01, -8.8490e+00, -1.1356e+01],\n",
      "        [-1.6031e+01, -1.3104e+01, -1.5597e+01, -1.2535e+01, -5.8834e+00,\n",
      "         -1.2290e+01, -1.8808e+01, -1.0926e+01, -8.3061e+00, -3.0654e-03]])\n",
      "2\n",
      "tensor([[-1.2366e+01, -1.0606e+01, -8.0966e+00, -7.9539e+00, -1.1628e+01,\n",
      "         -1.3640e+01, -2.1273e+01, -7.1607e-04, -1.2043e+01, -1.1117e+01],\n",
      "        [-1.3008e+01, -1.0265e+01, -4.8040e-05, -1.1553e+01, -1.5649e+01,\n",
      "         -1.9043e+01, -1.8359e+01, -1.4002e+01, -1.4960e+01, -2.0766e+01],\n",
      "        [-1.2239e+01, -6.1326e-04, -1.0169e+01, -1.1805e+01, -8.2123e+00,\n",
      "         -1.1868e+01, -9.4521e+00, -9.3454e+00, -9.1483e+00, -1.1348e+01],\n",
      "        [-2.9480e-03, -1.2429e+01, -7.2616e+00, -8.2204e+00, -1.0337e+01,\n",
      "         -7.9653e+00, -8.3047e+00, -9.6860e+00, -8.4244e+00, -6.8496e+00],\n",
      "        [-1.0381e+01, -9.6773e+00, -9.5559e+00, -9.9186e+00, -1.7862e-02,\n",
      "         -8.6334e+00, -7.7808e+00, -1.1773e+01, -7.8653e+00, -4.1043e+00],\n",
      "        [-1.6763e+01, -4.6133e-05, -1.3613e+01, -1.5910e+01, -1.0585e+01,\n",
      "         -1.6703e+01, -1.4645e+01, -1.1517e+01, -1.1675e+01, -1.4628e+01],\n",
      "        [-1.7681e+01, -7.4023e+00, -1.2501e+01, -1.3932e+01, -3.5442e-02,\n",
      "         -8.9475e+00, -1.1434e+01, -1.0010e+01, -3.3923e+00, -7.8493e+00],\n",
      "        [-1.1723e+01, -6.5215e+00, -8.9891e+00, -3.8989e+00, -4.4738e+00,\n",
      "         -6.3457e+00, -1.2474e+01, -9.6107e+00, -5.6009e+00, -3.9566e-02],\n",
      "        [-1.0328e+01, -1.0709e+01, -1.4352e+01, -8.9741e+00, -1.5124e+01,\n",
      "         -1.6314e-02, -4.1450e+00, -1.6266e+01, -8.8490e+00, -1.1356e+01],\n",
      "        [-1.6031e+01, -1.3104e+01, -1.5597e+01, -1.2535e+01, -5.8834e+00,\n",
      "         -1.2290e+01, -1.8808e+01, -1.0926e+01, -8.3061e+00, -3.0654e-03]])\n",
      "3\n",
      "torch.return_types.max(\n",
      "values=tensor([-7.1607e-04, -4.8040e-05, -6.1326e-04, -2.9480e-03, -1.7862e-02,\n",
      "        -4.6133e-05, -3.5442e-02, -3.9566e-02, -1.6314e-02, -3.0654e-03]),\n",
      "indices=tensor([7, 2, 1, 0, 4, 1, 4, 9, 5, 9]))\n",
      "4\n",
      "tensor([7, 2, 1, 0, 4, 1, 4, 9, 5, 9])\n",
      "Epoch: 1 BATCH: 600 LOSS: 0.053106147795915604\n",
      "Epoch: 1 BATCH: 1200 LOSS: 0.004053960554301739\n",
      "Epoch: 1 BATCH: 1800 LOSS: 0.03800049051642418\n",
      "Epoch: 1 BATCH: 2400 LOSS: 0.015968404710292816\n",
      "Epoch: 1 BATCH: 3000 LOSS: 6.104153726482764e-05\n",
      "Epoch: 1 BATCH: 3600 LOSS: 0.1219397634267807\n",
      "Epoch: 1 BATCH: 4200 LOSS: 0.014603614807128906\n",
      "Epoch: 1 BATCH: 4800 LOSS: 0.18480448424816132\n",
      "Epoch: 1 BATCH: 5400 LOSS: 0.07728765904903412\n",
      "Epoch: 1 BATCH: 6000 LOSS: 0.34217339754104614\n",
      "1\n",
      "tensor([[-2.0286e+01, -1.3063e+01, -1.4802e+01, -1.0365e+01, -1.3617e+01,\n",
      "         -1.7535e+01, -2.9164e+01, -6.7351e-05, -1.6291e+01, -1.0350e+01],\n",
      "        [-1.8556e+01, -1.0925e+01, -1.8000e-05, -1.9779e+01, -2.0506e+01,\n",
      "         -2.3138e+01, -1.9619e+01, -2.0428e+01, -1.9775e+01, -2.2517e+01],\n",
      "        [-1.8916e+01, -1.9073e-06, -1.5206e+01, -2.0411e+01, -1.5486e+01,\n",
      "         -1.7805e+01, -1.3694e+01, -1.5155e+01, -1.6003e+01, -1.8355e+01],\n",
      "        [-2.2937e-02, -1.1946e+01, -1.0117e+01, -1.3681e+01, -1.0582e+01,\n",
      "         -9.2423e+00, -3.8017e+00, -1.3006e+01, -9.7555e+00, -9.0820e+00],\n",
      "        [-1.6076e+01, -1.5480e+01, -1.2990e+01, -1.6069e+01, -8.1893e-05,\n",
      "         -1.2965e+01, -1.0986e+01, -1.5674e+01, -1.5135e+01, -9.7299e+00],\n",
      "        [-2.2853e+01,  0.0000e+00, -1.9285e+01, -2.5378e+01, -1.8172e+01,\n",
      "         -2.3402e+01, -2.0000e+01, -1.7685e+01, -1.9226e+01, -2.1037e+01],\n",
      "        [-1.9746e+01, -1.1097e+01, -1.5131e+01, -1.8213e+01, -3.7344e-03,\n",
      "         -1.0519e+01, -1.0793e+01, -1.3119e+01, -5.6752e+00, -8.3661e+00],\n",
      "        [-1.4230e+01, -1.0998e+01, -1.3725e+01, -1.0768e+01, -5.6841e+00,\n",
      "         -9.6870e+00, -1.5299e+01, -1.4647e+01, -8.3078e+00, -3.7557e-03],\n",
      "        [-1.2204e+01, -1.0382e+01, -1.6367e+01, -1.2602e+01, -1.1860e+01,\n",
      "         -4.7523e-03, -5.5372e+00, -1.3765e+01, -7.2255e+00, -1.0482e+01],\n",
      "        [-1.8447e+01, -1.6706e+01, -1.9218e+01, -1.5037e+01, -8.4691e+00,\n",
      "         -1.4987e+01, -2.1147e+01, -1.2826e+01, -1.0301e+01, -2.4685e-04]])\n",
      "2\n",
      "tensor([[-2.0286e+01, -1.3063e+01, -1.4802e+01, -1.0365e+01, -1.3617e+01,\n",
      "         -1.7535e+01, -2.9164e+01, -6.7351e-05, -1.6291e+01, -1.0350e+01],\n",
      "        [-1.8556e+01, -1.0925e+01, -1.8000e-05, -1.9779e+01, -2.0506e+01,\n",
      "         -2.3138e+01, -1.9619e+01, -2.0428e+01, -1.9775e+01, -2.2517e+01],\n",
      "        [-1.8916e+01, -1.9073e-06, -1.5206e+01, -2.0411e+01, -1.5486e+01,\n",
      "         -1.7805e+01, -1.3694e+01, -1.5155e+01, -1.6003e+01, -1.8355e+01],\n",
      "        [-2.2937e-02, -1.1946e+01, -1.0117e+01, -1.3681e+01, -1.0582e+01,\n",
      "         -9.2423e+00, -3.8017e+00, -1.3006e+01, -9.7555e+00, -9.0820e+00],\n",
      "        [-1.6076e+01, -1.5480e+01, -1.2990e+01, -1.6069e+01, -8.1893e-05,\n",
      "         -1.2965e+01, -1.0986e+01, -1.5674e+01, -1.5135e+01, -9.7299e+00],\n",
      "        [-2.2853e+01,  0.0000e+00, -1.9285e+01, -2.5378e+01, -1.8172e+01,\n",
      "         -2.3402e+01, -2.0000e+01, -1.7685e+01, -1.9226e+01, -2.1037e+01],\n",
      "        [-1.9746e+01, -1.1097e+01, -1.5131e+01, -1.8213e+01, -3.7344e-03,\n",
      "         -1.0519e+01, -1.0793e+01, -1.3119e+01, -5.6752e+00, -8.3661e+00],\n",
      "        [-1.4230e+01, -1.0998e+01, -1.3725e+01, -1.0768e+01, -5.6841e+00,\n",
      "         -9.6870e+00, -1.5299e+01, -1.4647e+01, -8.3078e+00, -3.7557e-03],\n",
      "        [-1.2204e+01, -1.0382e+01, -1.6367e+01, -1.2602e+01, -1.1860e+01,\n",
      "         -4.7523e-03, -5.5372e+00, -1.3765e+01, -7.2255e+00, -1.0482e+01],\n",
      "        [-1.8447e+01, -1.6706e+01, -1.9218e+01, -1.5037e+01, -8.4691e+00,\n",
      "         -1.4987e+01, -2.1147e+01, -1.2826e+01, -1.0301e+01, -2.4685e-04]])\n",
      "3\n",
      "torch.return_types.max(\n",
      "values=tensor([-6.7351e-05, -1.8000e-05, -1.9073e-06, -2.2937e-02, -8.1893e-05,\n",
      "         0.0000e+00, -3.7344e-03, -3.7557e-03, -4.7523e-03, -2.4685e-04]),\n",
      "indices=tensor([7, 2, 1, 0, 4, 1, 4, 9, 5, 9]))\n",
      "4\n",
      "tensor([7, 2, 1, 0, 4, 1, 4, 9, 5, 9])\n",
      "Epoch: 2 BATCH: 600 LOSS: 0.0053770639933645725\n",
      "Epoch: 2 BATCH: 1200 LOSS: 0.006665552966296673\n",
      "Epoch: 2 BATCH: 1800 LOSS: 0.011250527575612068\n",
      "Epoch: 2 BATCH: 2400 LOSS: 0.005573090631514788\n",
      "Epoch: 2 BATCH: 3000 LOSS: 0.0022761584259569645\n",
      "Epoch: 2 BATCH: 3600 LOSS: 0.03163021057844162\n",
      "Epoch: 2 BATCH: 4200 LOSS: 0.0023643814492970705\n",
      "Epoch: 2 BATCH: 4800 LOSS: 0.0005138001288287342\n",
      "Epoch: 2 BATCH: 5400 LOSS: 0.0036241114139556885\n",
      "Epoch: 2 BATCH: 6000 LOSS: 0.00020174476958345622\n",
      "1\n",
      "tensor([[-2.2738e+01, -1.7007e+01, -1.5693e+01, -1.4687e+01, -1.5451e+01,\n",
      "         -1.8895e+01, -2.9453e+01, -1.5497e-06, -1.7160e+01, -1.4190e+01],\n",
      "        [-1.3311e+01, -9.1252e+00, -1.1134e-04, -1.7959e+01, -1.6399e+01,\n",
      "         -1.7465e+01, -1.5193e+01, -1.5884e+01, -1.4886e+01, -1.9549e+01],\n",
      "        [-1.8627e+01, -1.0311e-04, -1.2386e+01, -1.9073e+01, -1.0729e+01,\n",
      "         -1.4375e+01, -1.1519e+01, -1.2524e+01, -9.6815e+00, -1.5025e+01],\n",
      "        [-3.8146e-05, -1.5521e+01, -1.4249e+01, -1.6109e+01, -1.8881e+01,\n",
      "         -1.3486e+01, -1.0393e+01, -1.7400e+01, -1.2196e+01, -1.5480e+01],\n",
      "        [-1.6919e+01, -1.4237e+01, -1.2351e+01, -1.7684e+01, -1.3076e-04,\n",
      "         -1.5466e+01, -1.1082e+01, -1.4038e+01, -1.2894e+01, -9.1448e+00],\n",
      "        [-2.1768e+01, -1.7166e-05, -1.5405e+01, -2.3151e+01, -1.2385e+01,\n",
      "         -1.8221e+01, -1.6042e+01, -1.4886e+01, -1.1304e+01, -1.6864e+01],\n",
      "        [-2.2937e+01, -1.1746e+01, -1.6224e+01, -2.2977e+01, -6.1719e-04,\n",
      "         -1.3826e+01, -1.2442e+01, -1.2570e+01, -7.6997e+00, -8.8200e+00],\n",
      "        [-1.4564e+01, -9.9941e+00, -9.3720e+00, -1.3149e+01, -4.6236e+00,\n",
      "         -1.2857e+01, -1.6203e+01, -1.3221e+01, -7.8410e+00, -1.0403e-02],\n",
      "        [-6.9392e+00, -9.3670e+00, -1.1382e+01, -8.2846e+00, -1.0247e+01,\n",
      "         -9.9605e-02, -3.0977e+00, -9.3800e+00, -3.1124e+00, -5.5940e+00],\n",
      "        [-2.1361e+01, -1.9765e+01, -2.0151e+01, -1.8553e+01, -9.2187e+00,\n",
      "         -1.6997e+01, -2.3103e+01, -1.2750e+01, -9.3910e+00, -1.8547e-04]])\n",
      "2\n",
      "tensor([[-2.2738e+01, -1.7007e+01, -1.5693e+01, -1.4687e+01, -1.5451e+01,\n",
      "         -1.8895e+01, -2.9453e+01, -1.5497e-06, -1.7160e+01, -1.4190e+01],\n",
      "        [-1.3311e+01, -9.1252e+00, -1.1134e-04, -1.7959e+01, -1.6399e+01,\n",
      "         -1.7465e+01, -1.5193e+01, -1.5884e+01, -1.4886e+01, -1.9549e+01],\n",
      "        [-1.8627e+01, -1.0311e-04, -1.2386e+01, -1.9073e+01, -1.0729e+01,\n",
      "         -1.4375e+01, -1.1519e+01, -1.2524e+01, -9.6815e+00, -1.5025e+01],\n",
      "        [-3.8146e-05, -1.5521e+01, -1.4249e+01, -1.6109e+01, -1.8881e+01,\n",
      "         -1.3486e+01, -1.0393e+01, -1.7400e+01, -1.2196e+01, -1.5480e+01],\n",
      "        [-1.6919e+01, -1.4237e+01, -1.2351e+01, -1.7684e+01, -1.3076e-04,\n",
      "         -1.5466e+01, -1.1082e+01, -1.4038e+01, -1.2894e+01, -9.1448e+00],\n",
      "        [-2.1768e+01, -1.7166e-05, -1.5405e+01, -2.3151e+01, -1.2385e+01,\n",
      "         -1.8221e+01, -1.6042e+01, -1.4886e+01, -1.1304e+01, -1.6864e+01],\n",
      "        [-2.2937e+01, -1.1746e+01, -1.6224e+01, -2.2977e+01, -6.1719e-04,\n",
      "         -1.3826e+01, -1.2442e+01, -1.2570e+01, -7.6997e+00, -8.8200e+00],\n",
      "        [-1.4564e+01, -9.9941e+00, -9.3720e+00, -1.3149e+01, -4.6236e+00,\n",
      "         -1.2857e+01, -1.6203e+01, -1.3221e+01, -7.8410e+00, -1.0403e-02],\n",
      "        [-6.9392e+00, -9.3670e+00, -1.1382e+01, -8.2846e+00, -1.0247e+01,\n",
      "         -9.9605e-02, -3.0977e+00, -9.3800e+00, -3.1124e+00, -5.5940e+00],\n",
      "        [-2.1361e+01, -1.9765e+01, -2.0151e+01, -1.8553e+01, -9.2187e+00,\n",
      "         -1.6997e+01, -2.3103e+01, -1.2750e+01, -9.3910e+00, -1.8547e-04]])\n",
      "3\n",
      "torch.return_types.max(\n",
      "values=tensor([-1.5497e-06, -1.1134e-04, -1.0311e-04, -3.8146e-05, -1.3076e-04,\n",
      "        -1.7166e-05, -6.1719e-04, -1.0403e-02, -9.9605e-02, -1.8547e-04]),\n",
      "indices=tensor([7, 2, 1, 0, 4, 1, 4, 9, 5, 9]))\n",
      "4\n",
      "tensor([7, 2, 1, 0, 4, 1, 4, 9, 5, 9])\n"
     ]
    },
    {
     "name": "stdout",
     "output_type": "stream",
     "text": [
      "Epoch: 3 BATCH: 600 LOSS: 0.002185891382396221\n",
      "Epoch: 3 BATCH: 1200 LOSS: 0.018077457323670387\n",
      "Epoch: 3 BATCH: 1800 LOSS: 0.0002033542114077136\n",
      "Epoch: 3 BATCH: 2400 LOSS: 0.000678527751006186\n",
      "Epoch: 3 BATCH: 3000 LOSS: 0.00022619531955569983\n",
      "Epoch: 3 BATCH: 3600 LOSS: 0.26363232731819153\n",
      "Epoch: 3 BATCH: 4200 LOSS: 0.0003897787246387452\n",
      "Epoch: 3 BATCH: 4800 LOSS: 0.017158251255750656\n",
      "Epoch: 3 BATCH: 5400 LOSS: 0.00592388678342104\n",
      "Epoch: 3 BATCH: 6000 LOSS: 0.00039335753535851836\n",
      "1\n",
      "tensor([[-1.9524e+01, -1.4027e+01, -1.2460e+01, -1.2555e+01, -1.3351e+01,\n",
      "         -1.7351e+01, -2.9222e+01, -2.1934e-05, -1.3757e+01, -1.1411e+01],\n",
      "        [-1.4685e+01, -1.3782e+01, -1.9073e-06, -2.0191e+01, -1.4888e+01,\n",
      "         -1.9226e+01, -1.8100e+01, -1.5565e+01, -1.7411e+01, -2.1287e+01],\n",
      "        [-1.9487e+01, -1.0490e-05, -1.4320e+01, -2.5073e+01, -1.1972e+01,\n",
      "         -1.7791e+01, -1.6248e+01, -1.2826e+01, -1.4199e+01, -1.8488e+01],\n",
      "        [-2.6703e-05, -1.8550e+01, -1.6177e+01, -1.7185e+01, -1.6559e+01,\n",
      "         -1.1932e+01, -1.1154e+01, -1.4832e+01, -1.4693e+01, -1.2232e+01],\n",
      "        [-1.9055e+01, -1.8483e+01, -1.6330e+01, -1.8697e+01, -2.2242e-04,\n",
      "         -1.9176e+01, -1.6025e+01, -1.4741e+01, -1.6667e+01, -8.4140e+00],\n",
      "        [-2.3178e+01, -1.4305e-06, -1.7045e+01, -2.9663e+01, -1.3859e+01,\n",
      "         -2.2172e+01, -2.1992e+01, -1.4710e+01, -1.6491e+01, -2.0964e+01],\n",
      "        [-2.3638e+01, -1.3501e+01, -1.7913e+01, -2.4984e+01, -8.2852e-04,\n",
      "         -1.6791e+01, -1.4925e+01, -1.4061e+01, -7.1770e+00, -9.6944e+00],\n",
      "        [-1.3650e+01, -8.5273e+00, -1.1568e+01, -1.1017e+01, -4.7958e+00,\n",
      "         -1.1773e+01, -1.6328e+01, -9.7430e+00, -5.7599e+00, -1.1776e-02],\n",
      "        [-1.1609e+01, -1.5102e+01, -1.6281e+01, -1.2022e+01, -1.4662e+01,\n",
      "         -2.1983e-03, -7.2423e+00, -1.4186e+01, -6.8506e+00, -7.8122e+00],\n",
      "        [-2.0990e+01, -1.8426e+01, -2.1050e+01, -1.6338e+01, -8.2021e+00,\n",
      "         -1.6950e+01, -2.4911e+01, -1.3503e+01, -9.8356e+00, -3.2908e-04]])\n",
      "2\n",
      "tensor([[-1.9524e+01, -1.4027e+01, -1.2460e+01, -1.2555e+01, -1.3351e+01,\n",
      "         -1.7351e+01, -2.9222e+01, -2.1934e-05, -1.3757e+01, -1.1411e+01],\n",
      "        [-1.4685e+01, -1.3782e+01, -1.9073e-06, -2.0191e+01, -1.4888e+01,\n",
      "         -1.9226e+01, -1.8100e+01, -1.5565e+01, -1.7411e+01, -2.1287e+01],\n",
      "        [-1.9487e+01, -1.0490e-05, -1.4320e+01, -2.5073e+01, -1.1972e+01,\n",
      "         -1.7791e+01, -1.6248e+01, -1.2826e+01, -1.4199e+01, -1.8488e+01],\n",
      "        [-2.6703e-05, -1.8550e+01, -1.6177e+01, -1.7185e+01, -1.6559e+01,\n",
      "         -1.1932e+01, -1.1154e+01, -1.4832e+01, -1.4693e+01, -1.2232e+01],\n",
      "        [-1.9055e+01, -1.8483e+01, -1.6330e+01, -1.8697e+01, -2.2242e-04,\n",
      "         -1.9176e+01, -1.6025e+01, -1.4741e+01, -1.6667e+01, -8.4140e+00],\n",
      "        [-2.3178e+01, -1.4305e-06, -1.7045e+01, -2.9663e+01, -1.3859e+01,\n",
      "         -2.2172e+01, -2.1992e+01, -1.4710e+01, -1.6491e+01, -2.0964e+01],\n",
      "        [-2.3638e+01, -1.3501e+01, -1.7913e+01, -2.4984e+01, -8.2852e-04,\n",
      "         -1.6791e+01, -1.4925e+01, -1.4061e+01, -7.1770e+00, -9.6944e+00],\n",
      "        [-1.3650e+01, -8.5273e+00, -1.1568e+01, -1.1017e+01, -4.7958e+00,\n",
      "         -1.1773e+01, -1.6328e+01, -9.7430e+00, -5.7599e+00, -1.1776e-02],\n",
      "        [-1.1609e+01, -1.5102e+01, -1.6281e+01, -1.2022e+01, -1.4662e+01,\n",
      "         -2.1983e-03, -7.2423e+00, -1.4186e+01, -6.8506e+00, -7.8122e+00],\n",
      "        [-2.0990e+01, -1.8426e+01, -2.1050e+01, -1.6338e+01, -8.2021e+00,\n",
      "         -1.6950e+01, -2.4911e+01, -1.3503e+01, -9.8356e+00, -3.2908e-04]])\n",
      "3\n",
      "torch.return_types.max(\n",
      "values=tensor([-2.1934e-05, -1.9073e-06, -1.0490e-05, -2.6703e-05, -2.2242e-04,\n",
      "        -1.4305e-06, -8.2852e-04, -1.1776e-02, -2.1983e-03, -3.2908e-04]),\n",
      "indices=tensor([7, 2, 1, 0, 4, 1, 4, 9, 5, 9]))\n",
      "4\n",
      "tensor([7, 2, 1, 0, 4, 1, 4, 9, 5, 9])\n",
      "Epoch: 4 BATCH: 600 LOSS: 0.0005255230353213847\n",
      "Epoch: 4 BATCH: 1200 LOSS: 0.22423601150512695\n",
      "Epoch: 4 BATCH: 1800 LOSS: 1.3589839227279299e-06\n",
      "Epoch: 4 BATCH: 2400 LOSS: 5.473446799442172e-05\n",
      "Epoch: 4 BATCH: 3000 LOSS: 0.026623371988534927\n",
      "Epoch: 4 BATCH: 3600 LOSS: 0.08865078538656235\n",
      "Epoch: 4 BATCH: 4200 LOSS: 0.0006811441853642464\n",
      "Epoch: 4 BATCH: 4800 LOSS: 0.011705825105309486\n",
      "Epoch: 4 BATCH: 5400 LOSS: 4.393705603433773e-05\n",
      "Epoch: 4 BATCH: 6000 LOSS: 0.0006571868434548378\n",
      "1\n",
      "tensor([[-1.9219e+01, -1.4415e+01, -1.2696e+01, -1.2816e+01, -1.3739e+01,\n",
      "         -1.7105e+01, -2.7276e+01, -9.8943e-06, -1.6213e+01, -1.2975e+01],\n",
      "        [-2.3719e+01, -2.2874e+01,  0.0000e+00, -2.2444e+01, -2.1218e+01,\n",
      "         -2.6298e+01, -2.1896e+01, -1.8761e+01, -2.4834e+01, -2.7259e+01],\n",
      "        [-2.4724e+01, -2.3842e-07, -1.7938e+01, -3.0646e+01, -1.6948e+01,\n",
      "         -1.9451e+01, -1.7255e+01, -1.5379e+01, -1.7278e+01, -2.2023e+01],\n",
      "        [-4.7684e-07, -2.2072e+01, -1.9717e+01, -2.2973e+01, -1.8958e+01,\n",
      "         -1.9732e+01, -1.4936e+01, -1.7191e+01, -2.2020e+01, -1.6097e+01],\n",
      "        [-2.4545e+01, -2.0897e+01, -2.0782e+01, -2.3197e+01, -1.9431e-05,\n",
      "         -2.1956e+01, -1.7646e+01, -1.7114e+01, -2.0280e+01, -1.0849e+01],\n",
      "        [-2.9413e+01,  0.0000e+00, -2.1215e+01, -3.5904e+01, -1.9571e+01,\n",
      "         -2.4556e+01, -2.3211e+01, -1.7569e+01, -2.0408e+01, -2.4411e+01],\n",
      "        [-3.3517e+01, -1.7484e+01, -2.4361e+01, -3.1770e+01, -9.5367e-07,\n",
      "         -2.1543e+01, -2.0654e+01, -1.6959e+01, -1.4129e+01, -1.5278e+01],\n",
      "        [-2.0934e+01, -1.2884e+01, -1.4121e+01, -1.3750e+01, -4.3775e+00,\n",
      "         -1.6308e+01, -2.0961e+01, -1.2834e+01, -1.1415e+01, -1.2655e-02],\n",
      "        [-7.5603e+00, -1.2959e+01, -1.4776e+01, -1.3106e+01, -1.5493e+01,\n",
      "         -6.1353e-02, -3.0440e+00, -1.3741e+01, -4.5274e+00, -7.5433e+00],\n",
      "        [-2.3829e+01, -2.0511e+01, -2.4493e+01, -1.8153e+01, -1.0375e+01,\n",
      "         -1.8205e+01, -2.6450e+01, -1.5951e+01, -1.3190e+01, -3.3259e-05]])\n",
      "2\n",
      "tensor([[-1.9219e+01, -1.4415e+01, -1.2696e+01, -1.2816e+01, -1.3739e+01,\n",
      "         -1.7105e+01, -2.7276e+01, -9.8943e-06, -1.6213e+01, -1.2975e+01],\n",
      "        [-2.3719e+01, -2.2874e+01,  0.0000e+00, -2.2444e+01, -2.1218e+01,\n",
      "         -2.6298e+01, -2.1896e+01, -1.8761e+01, -2.4834e+01, -2.7259e+01],\n",
      "        [-2.4724e+01, -2.3842e-07, -1.7938e+01, -3.0646e+01, -1.6948e+01,\n",
      "         -1.9451e+01, -1.7255e+01, -1.5379e+01, -1.7278e+01, -2.2023e+01],\n",
      "        [-4.7684e-07, -2.2072e+01, -1.9717e+01, -2.2973e+01, -1.8958e+01,\n",
      "         -1.9732e+01, -1.4936e+01, -1.7191e+01, -2.2020e+01, -1.6097e+01],\n",
      "        [-2.4545e+01, -2.0897e+01, -2.0782e+01, -2.3197e+01, -1.9431e-05,\n",
      "         -2.1956e+01, -1.7646e+01, -1.7114e+01, -2.0280e+01, -1.0849e+01],\n",
      "        [-2.9413e+01,  0.0000e+00, -2.1215e+01, -3.5904e+01, -1.9571e+01,\n",
      "         -2.4556e+01, -2.3211e+01, -1.7569e+01, -2.0408e+01, -2.4411e+01],\n",
      "        [-3.3517e+01, -1.7484e+01, -2.4361e+01, -3.1770e+01, -9.5367e-07,\n",
      "         -2.1543e+01, -2.0654e+01, -1.6959e+01, -1.4129e+01, -1.5278e+01],\n",
      "        [-2.0934e+01, -1.2884e+01, -1.4121e+01, -1.3750e+01, -4.3775e+00,\n",
      "         -1.6308e+01, -2.0961e+01, -1.2834e+01, -1.1415e+01, -1.2655e-02],\n",
      "        [-7.5603e+00, -1.2959e+01, -1.4776e+01, -1.3106e+01, -1.5493e+01,\n",
      "         -6.1353e-02, -3.0440e+00, -1.3741e+01, -4.5274e+00, -7.5433e+00],\n",
      "        [-2.3829e+01, -2.0511e+01, -2.4493e+01, -1.8153e+01, -1.0375e+01,\n",
      "         -1.8205e+01, -2.6450e+01, -1.5951e+01, -1.3190e+01, -3.3259e-05]])\n",
      "3\n",
      "torch.return_types.max(\n",
      "values=tensor([-9.8943e-06,  0.0000e+00, -2.3842e-07, -4.7684e-07, -1.9431e-05,\n",
      "         0.0000e+00, -9.5367e-07, -1.2655e-02, -6.1353e-02, -3.3259e-05]),\n",
      "indices=tensor([7, 2, 1, 0, 4, 1, 4, 9, 5, 9]))\n",
      "4\n",
      "tensor([7, 2, 1, 0, 4, 1, 4, 9, 5, 9])\n",
      "Training took 1.8932883858680725 minutes\n"
     ]
    }
   ],
   "source": [
    "start_time = time.time()\n",
    "\n",
    "\n",
    "epochs = 5\n",
    "train_losses = []\n",
    "test_losses = []\n",
    "train_correct = []\n",
    "test_correct = []\n",
    "\n",
    "for i in range(epochs):\n",
    "    trn_corr = 0\n",
    "    tst_corr = 0\n",
    "    \n",
    "    for b, (X_train, y_train) in enumerate(train_loader):\n",
    "        b += 1\n",
    "        \n",
    "        y_pred = model(X_train)\n",
    "        loss = criterion(y_pred, y_train)\n",
    "        \n",
    "        predicted = torch.max(y_pred.data, 1)[1]\n",
    "        batch_corr = (predicted == y_train).sum()\n",
    "        trn_corr += batch_corr\n",
    "        \n",
    "        optimizer.zero_grad()\n",
    "        loss.backward()\n",
    "        optimizer.step()\n",
    "        \n",
    "        if b % 600 == 0:\n",
    "            print(f\"Epoch: {i} BATCH: {b} LOSS: {loss.item()}\")\n",
    "        \n",
    "    train_losses.append(loss)\n",
    "    train_correct.append(trn_corr)\n",
    "    \n",
    "    with torch.no_grad():\n",
    "        for b, (X_test, y_test) in enumerate(test_loader):\n",
    "            y_val = model(X_test)\n",
    "            predicted = torch.max(y_val.data, 1)[1]\n",
    "            tst_corr += (predicted == y_test).sum()\n",
    "        \n",
    "        loss = criterion(y_val, y_test)\n",
    "        test_losses.append(loss)\n",
    "        test_correct.append(tst_corr)\n",
    "\n",
    "\n",
    "current_time = time.time()\n",
    "total = current_time - start_time\n",
    "print(f\"Training took {total / 60} minutes\")"
   ]
  },
  {
   "cell_type": "code",
   "execution_count": 42,
   "metadata": {},
   "outputs": [
    {
     "data": {
      "image/png": "[encoded data removed]",
      "text/plain": [
       "<Figure size 432x288 with 1 Axes>"
      ]
     },
     "metadata": {
      "needs_background": "light"
     },
     "output_type": "display_data"
    }
   ],
   "source": [
    "with torch.no_grad():\n",
    "    plt.plot(train_losses, label='train loss')\n",
    "    plt.plot(test_losses, label='validation loss')\n",
    "    plt.title('LOSS AT EPOCH')\n",
    "    plt.legend()"
   ]
  },
  {
   "cell_type": "code",
   "execution_count": 44,
   "metadata": {},
   "outputs": [
    {
     "data": {
      "text/plain": [
       "<matplotlib.legend.Legend at 0x7fc3bf1c4550>"
      ]
     },
     "execution_count": 44,
     "metadata": {},
     "output_type": "execute_result"
    },
    {
     "data": {
      "image/png": "[encoded data removed]",
      "text/plain": [
       "<Figure size 432x288 with 1 Axes>"
      ]
     },
     "metadata": {
      "needs_background": "light"
     },
     "output_type": "display_data"
    }
   ],
   "source": [
    "plt.plot([t / 600 for t in train_correct], label='training accuracy')\n",
    "plt.plot([t / 100 for t in test_correct], label='validation accuracy')\n",
    "plt.title('Accuracy at the end of each epoch')\n",
    "plt.legend()"
   ]
  },
  {
   "cell_type": "code",
   "execution_count": 45,
   "metadata": {},
   "outputs": [],
   "source": [
    "test_load_all = DataLoader(test_data, batch_size=10000, shuffle=False)"
   ]
  },
  {
   "cell_type": "code",
   "execution_count": 47,
   "metadata": {},
   "outputs": [],
   "source": [
    "with torch.no_grad():\n",
    "    correct = 0\n",
    "    for X_test, y_test in test_load_all:\n",
    "        y_val = model(X_test)\n",
    "        predicted = torch.max(y_val, 1)[1]\n",
    "        correct += (predicted == y_test).sum()"
   ]
  },
  {
   "cell_type": "code",
   "execution_count": 53,
   "metadata": {},
   "outputs": [
    {
     "data": {
      "text/plain": [
       "98.57"
      ]
     },
     "execution_count": 53,
     "metadata": {},
     "output_type": "execute_result"
    }
   ],
   "source": [
    "correct.item() * 100 / len(test_data)"
   ]
  },
  {
   "cell_type": "code",
   "execution_count": 54,
   "metadata": {},
   "outputs": [
    {
     "name": "stdout",
     "output_type": "stream",
     "text": [
      "[[   0    1    2    3    4    5    6    7    8    9]]\n",
      "\n",
      "[[ 977    0    3    0    0    4    5    1    8    1]\n",
      " [   0 1129    2    0    1    0    3    9    1    3]\n",
      " [   0    1 1015    1    0    1    1    4    3    0]\n",
      " [   0    0    1 1006    0   10    0    1    1    1]\n",
      " [   0    0    1    0  978    0    1    1    3   11]\n",
      " [   0    2    0    1    0  870    0    0    0    2]\n",
      " [   1    2    1    0    2    4  947    0    0    0]\n",
      " [   2    1    7    0    0    1    0 1008    1    6]\n",
      " [   0    0    2    1    0    0    1    3  950    8]\n",
      " [   0    0    0    1    1    2    0    1    7  977]]\n"
     ]
    }
   ],
   "source": [
    "np.set_printoptions(formatter=dict(int=lambda x: f'{x:4}'))\n",
    "print(np.arange(10).reshape(1, 10))\n",
    "print()\n",
    "\n",
    "print(confusion_matrix(predicted.view(-1), y_test.view(-1)))"
   ]
  },
  {
   "cell_type": "code",
   "execution_count": 65,
   "metadata": {},
   "outputs": [
    {
     "data": {
      "text/plain": [
       "<matplotlib.image.AxesImage at 0x7fc3714f6ac0>"
      ]
     },
     "execution_count": 65,
     "metadata": {},
     "output_type": "execute_result"
    },
    {
     "data": {
      "image/png": "[encoded data removed]",
      "text/plain": [
       "<Figure size 432x288 with 1 Axes>"
      ]
     },
     "metadata": {
      "needs_background": "light"
     },
     "output_type": "display_data"
    }
   ],
   "source": [
    "plt.imshow(test_data[333][0].reshape(28, 28))"
   ]
  },
  {
   "cell_type": "code",
   "execution_count": 66,
   "metadata": {},
   "outputs": [],
   "source": [
    "model.eval()\n",
    "with torch.no_grad():\n",
    "    new_prediction = model(test_data[333][0].view(1, 1, 28, 28))"
   ]
  },
  {
   "cell_type": "code",
   "execution_count": 67,
   "metadata": {},
   "outputs": [
    {
     "data": {
      "text/plain": [
       "tensor([[-1.8630e+01, -1.4021e+01, -1.9681e+01, -1.5024e+01, -2.3492e+01,\n",
       "         -2.1551e-04, -1.0397e+01, -1.9039e+01, -8.7905e+00, -1.0359e+01]])"
      ]
     },
     "execution_count": 67,
     "metadata": {},
     "output_type": "execute_result"
    }
   ],
   "source": [
    "new_prediction"
   ]
  },
  {
   "cell_type": "code",
   "execution_count": 68,
   "metadata": {},
   "outputs": [
    {
     "data": {
      "text/plain": [
       "tensor(5)"
      ]
     },
     "execution_count": 68,
     "metadata": {},
     "output_type": "execute_result"
    }
   ],
   "source": [
    "new_prediction.argmax()"
   ]
  },
  {
   "cell_type": "code",
   "execution_count": null,
   "metadata": {},
   "outputs": [],
   "source": []
  }
 ],
 "metadata": {
  "kernelspec": {
   "display_name": "Python 3",
   "language": "python",
   "name": "python3"
  },
  "language_info": {
   "codemirror_mode": {
    "name": "ipython",
    "version": 3
   },
   "file_extension": ".py",
   "mimetype": "text/x-python",
   "name": "python",
   "nbconvert_exporter": "python",
   "pygments_lexer": "ipython3",
   "version": "3.8.3"
  }
 },
 "nbformat": 4,
 "nbformat_minor": 4
}
